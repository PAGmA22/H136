{
 "cells": [
  {
   "cell_type": "code",
   "execution_count": 1,
   "metadata": {},
   "outputs": [],
   "source": [
    "import os\n",
    "import pandas as pd\n",
    "from google.oauth2.credentials import Credentials\n",
    "from google_auth_oauthlib.flow import InstalledAppFlow\n",
    "from google.auth.transport.requests import Request\n",
    "from googleapiclient.discovery import build"
   ]
  },
  {
   "cell_type": "code",
   "execution_count": 2,
   "metadata": {},
   "outputs": [
    {
     "name": "stdout",
     "output_type": "stream",
     "text": [
      "<google.oauth2.credentials.Credentials object at 0xffff76c29e90>\n"
     ]
    }
   ],
   "source": [
    "scopes=['https://www.googleapis.com/auth/photoslibrary.appendonly']\n",
    "\n",
    "creds = None\n",
    "\n",
    "if os.path.exists('_secrets_/token_append.json'):\n",
    "    creds = Credentials.from_authorized_user_file('_secrets_/token_append.json', scopes)\n",
    "        \n",
    "if not creds or not creds.valid:\n",
    "    if creds and creds.expired and creds.refresh_token:\n",
    "        creds.refresh(Request())\n",
    "    else:\n",
    "        flow = InstalledAppFlow.from_client_secrets_file(\n",
    "            '_secrets_/client_secret.json', scopes)\n",
    "        creds = flow.run_local_server()\n",
    "    print(creds)\n",
    "    # Save the credentials for the next run\n",
    "    with open('_secrets_/token_append.json', 'w') as token:\n",
    "        token.write(creds.to_json())\n",
    "        \n",
    "from google.auth.transport.requests import AuthorizedSession\n",
    "authed_session = AuthorizedSession(creds)"
   ]
  },
  {
   "cell_type": "code",
   "execution_count": 3,
   "metadata": {},
   "outputs": [
    {
     "name": "stdout",
     "output_type": "stream",
     "text": [
      "{\n",
      "  \"id\": \"APc8FD6zwWrhgKVajmUI2z92BIaVKGlxoxqwuKIByE94TVephj6QOJ7mKaac2nCWcoHY-A_m3qgb\",\n",
      "  \"title\": \"Lärm & Liebe Party 2024\",\n",
      "  \"productUrl\": \"https://photos.google.com/lr/album/APc8FD6zwWrhgKVajmUI2z92BIaVKGlxoxqwuKIByE94TVephj6QOJ7mKaac2nCWcoHY-A_m3qgb\",\n",
      "  \"isWriteable\": true\n",
      "}\n",
      "\n"
     ]
    }
   ],
   "source": [
    "response = authed_session.post(\n",
    "    'https://photoslibrary.googleapis.com/v1/albums',\n",
    "    json={\n",
    "    \"album\": {\n",
    "        \"title\": \"Lärm & Liebe Party 2024\"\n",
    "        }\n",
    "    }\n",
    ")\n",
    "print(response.text)"
   ]
  },
  {
   "cell_type": "code",
   "execution_count": 10,
   "metadata": {},
   "outputs": [],
   "source": [
    "# read image from file\n",
    "with open(\"01_TestPhotos/IMG_4061.JPG\", \"rb\") as f:\n",
    "    image_contents = f.read()\n",
    "\n",
    "# upload photo and get upload token\n",
    "response = authed_session.post(\n",
    "    \"https://photoslibrary.googleapis.com/v1/uploads\", \n",
    "    headers={},\n",
    "    data=image_contents)\n",
    "upload_token = response.text"
   ]
  },
  {
   "cell_type": "code",
   "execution_count": 11,
   "metadata": {},
   "outputs": [
    {
     "name": "stdout",
     "output_type": "stream",
     "text": [
      "{\n",
      "  \"newMediaItemResults\": [\n",
      "    {\n",
      "      \"uploadToken\": \"CAIS6QIAJoFQin4hIwIdR5i6qaNNcdAbaFFa632Wi7K8fU8OvUCi+48hRbVgVslPqnEN4ydopzYpSIuD1T9CoMYyr8fphlcAiP09dOx2Kcbs0r4UrWAK7eGwbM+wBiV5UKcGiFOEDc6v7LFuA6npBZHV51U09Y3HjGqejZfaRb+nxOyOhrMw9saFXQ9MXZUV6qw31rQOyrV8bBrTevUKSwVbNa/eAxDNIOfF/If/rVl0k9iGg0rb/GupL99bTlsZWDyEuIx6U6Svw6PUk38YC8t6NtTs/J1Whewh0Ch1/d7TIrx9hOd92kDaoOFO4DYmFX0TQmlpRDeu3njwm1JEu3GS6Mj/5abNXWLJP1LYmUsI9NTZfsKA+QtsWm1ZzfEgkBvMw3ZfbdWnd9NcIO66HkZAx6A0akH1FzY1jdTKQs4qHdNZ82MRkUlUGUsypd2o/JmI6o0iLmPuiyA8aDxP9CIsK8/jKwPSFKyNRKw1\",\n",
      "      \"status\": {\n",
      "        \"message\": \"Success\"\n",
      "      },\n",
      "      \"mediaItem\": {\n",
      "        \"id\": \"APc8FD5-Z7AL5FF01-wstGnKBcuPAdeZSnyr1QNdZCmFvfDCziPkB1Iwo8WVX-F-PGUcsyWMiD1kUHxJgkoOSHfjiym0w8LB6w\",\n",
      "        \"description\": \"Test photo\",\n",
      "        \"productUrl\": \"https://photos.google.com/lr/album/APc8FD7ApQQ-FvKFPD-DjFxw-Thzs9P-ss8T8R2hkOLRt7wnaUHdIjJmBfSmF7ccEvGiPXEKgeON/photo/APc8FD5-Z7AL5FF01-wstGnKBcuPAdeZSnyr1QNdZCmFvfDCziPkB1Iwo8WVX-F-PGUcsyWMiD1kUHxJgkoOSHfjiym0w8LB6w\",\n",
      "        \"mimeType\": \"image/jpeg\",\n",
      "        \"mediaMetadata\": {\n",
      "          \"creationTime\": \"2024-05-28T15:29:09Z\",\n",
      "          \"width\": \"6000\",\n",
      "          \"height\": \"3368\"\n",
      "        },\n",
      "        \"filename\": \"test2.jpg\"\n",
      "      }\n",
      "    }\n",
      "  ]\n",
      "}\n",
      "\n"
     ]
    }
   ],
   "source": [
    "# use batch create to add photo and description\n",
    "response = authed_session.post(\n",
    "        'https://photoslibrary.googleapis.com/v1/mediaItems:batchCreate', \n",
    "        headers = { 'content-type': 'application/json' },\n",
    "        json={\n",
    "            \"albumId\": \"APc8FD7ApQQ-FvKFPD-DjFxw-Thzs9P-ss8T8R2hkOLRt7wnaUHdIjJmBfSmF7ccEvGiPXEKgeON\",\n",
    "            \"newMediaItems\": [{\n",
    "                \"description\": \"Test photo\",\n",
    "                \"simpleMediaItem\": {\n",
    "                    \"uploadToken\": upload_token,\n",
    "                    \"fileName\": \"test2.jpg\"\n",
    "                }\n",
    "            }]\n",
    "        }\n",
    ")\n",
    "print(response.text)"
   ]
  },
  {
   "cell_type": "code",
   "execution_count": 6,
   "metadata": {},
   "outputs": [
    {
     "ename": "SyntaxError",
     "evalue": "unterminated string literal (detected at line 17) (3652122188.py, line 17)",
     "output_type": "error",
     "traceback": [
      "\u001b[0;36m  Cell \u001b[0;32mIn[6], line 17\u001b[0;36m\u001b[0m\n\u001b[0;31m    creds =googleaums' in albums:\u001b[0m\n\u001b[0m                     ^\u001b[0m\n\u001b[0;31mSyntaxError\u001b[0m\u001b[0;31m:\u001b[0m unterminated string literal (detected at line 17)\n"
     ]
    }
   ],
   "source": [
    "SCOPES=['https://www.googleapis.com/auth/photoslibrary.appendonly']\n",
    "\n",
    "def authenticate():\n",
    "    creds = None\n",
    "    # The file token.json stores the user's access and refresh tokens, and is\n",
    "    # created automatically when the authorization flow completes for the first time.\n",
    "    if creds and creds.valid:\n",
    "        return creds\n",
    "    if creds and creds.expired and creds.refresh_token:\n",
    "        creds.refresh(Request())\n",
    "        return creds\n",
    "    flow = InstalledAppFlow.from_client_secrets_file('_secrets_/client_secret.json', SCOPES)\n",
    "    creds = flow.run_local_server(port=0)\n",
    "    return creds                                                                                                                                                                                                                                                                                                                                                                                                                                                                \n",
    "\n",
    "def list_albums():\n",
    "    creds ='googlealbums'\n",
    "    for album in albums['albums']:\n",
    "        print(album['title'], album['id'])"
   ]
  },
  {
   "cell_type": "code",
   "execution_count": null,
   "metadata": {},
   "outputs": [
    {
     "name": "stdout",
     "output_type": "stream",
     "text": [
      "Please visit this URL to authorize this application: https://accounts.google.com/o/oauth2/auth?response_type=code&client_id=624080275435-fb3dqmtn1s37u7a8tpbgjsgivo8d2plv.apps.googleusercontent.com&redirect_uri=http%3A%2F%2Flocalhost%3A43403%2F&scope=https%3A%2F%2Fwww.googleapis.com%2Fauth%2Fphotoslibrary.appendonly&state=de2XY2x97wepNf8JMIGO2ZSccttkcw&access_type=offline\n"
     ]
    },
    {
     "ename": "HttpError",
     "evalue": "<HttpError 403 when requesting https://photoslibrary.googleapis.com/v1/albums?alt=json returned \"Request had insufficient authentication scopes.\". Details: \"[{'@type': 'type.googleapis.com/google.rpc.ErrorInfo', 'reason': 'ACCESS_TOKEN_SCOPE_INSUFFICIENT', 'domain': 'googleapis.com', 'metadata': {'service': 'photoslibrary.googleapis.com', 'method': 'google.photos.library.v1.PhotosLibrary.ListAlbums'}}]\">",
     "output_type": "error",
     "traceback": [
      "\u001b[0;31m---------------------------------------------------------------------------\u001b[0m",
      "\u001b[0;31mHttpError\u001b[0m                                 Traceback (most recent call last)",
      "\u001b[1;32m/home/h136raspi/Documents/WG-Github/Raspberry_Pi_5/api_connect.ipynb Cell 6\u001b[0m line \u001b[0;36m1\n\u001b[0;32m----> <a href='vscode-notebook-cell:/home/h136raspi/Documents/WG-Github/Raspberry_Pi_5/api_connect.ipynb#W5sZmlsZQ%3D%3D?line=0'>1</a>\u001b[0m list_albums()\n",
      "\u001b[1;32m/home/h136raspi/Documents/WG-Github/Raspberry_Pi_5/api_connect.ipynb Cell 6\u001b[0m line \u001b[0;36m1\n\u001b[1;32m     <a href='vscode-notebook-cell:/home/h136raspi/Documents/WG-Github/Raspberry_Pi_5/api_connect.ipynb#W5sZmlsZQ%3D%3D?line=16'>17</a>\u001b[0m creds \u001b[39m=\u001b[39m authenticate()\n\u001b[1;32m     <a href='vscode-notebook-cell:/home/h136raspi/Documents/WG-Github/Raspberry_Pi_5/api_connect.ipynb#W5sZmlsZQ%3D%3D?line=17'>18</a>\u001b[0m service \u001b[39m=\u001b[39m build(\u001b[39m'\u001b[39m\u001b[39mphotoslibrary\u001b[39m\u001b[39m'\u001b[39m, \u001b[39m'\u001b[39m\u001b[39mv1\u001b[39m\u001b[39m'\u001b[39m, static_discovery\u001b[39m=\u001b[39m\u001b[39mFalse\u001b[39;00m, credentials\u001b[39m=\u001b[39mcreds)\n\u001b[0;32m---> <a href='vscode-notebook-cell:/home/h136raspi/Documents/WG-Github/Raspberry_Pi_5/api_connect.ipynb#W5sZmlsZQ%3D%3D?line=18'>19</a>\u001b[0m albums \u001b[39m=\u001b[39m service\u001b[39m.\u001b[39;49malbums()\u001b[39m.\u001b[39;49mlist()\u001b[39m.\u001b[39;49mexecute()\n\u001b[1;32m     <a href='vscode-notebook-cell:/home/h136raspi/Documents/WG-Github/Raspberry_Pi_5/api_connect.ipynb#W5sZmlsZQ%3D%3D?line=19'>20</a>\u001b[0m \u001b[39mif\u001b[39;00m \u001b[39m'\u001b[39m\u001b[39malbums\u001b[39m\u001b[39m'\u001b[39m \u001b[39min\u001b[39;00m albums:\n\u001b[1;32m     <a href='vscode-notebook-cell:/home/h136raspi/Documents/WG-Github/Raspberry_Pi_5/api_connect.ipynb#W5sZmlsZQ%3D%3D?line=20'>21</a>\u001b[0m     \u001b[39mfor\u001b[39;00m album \u001b[39min\u001b[39;00m albums[\u001b[39m'\u001b[39m\u001b[39malbums\u001b[39m\u001b[39m'\u001b[39m]:\n",
      "File \u001b[0;32m/usr/local/lib/python3.11/dist-packages/googleapiclient/_helpers.py:130\u001b[0m, in \u001b[0;36mpositional.<locals>.positional_decorator.<locals>.positional_wrapper\u001b[0;34m(*args, **kwargs)\u001b[0m\n\u001b[1;32m    128\u001b[0m     \u001b[39melif\u001b[39;00m positional_parameters_enforcement \u001b[39m==\u001b[39m POSITIONAL_WARNING:\n\u001b[1;32m    129\u001b[0m         logger\u001b[39m.\u001b[39mwarning(message)\n\u001b[0;32m--> 130\u001b[0m \u001b[39mreturn\u001b[39;00m wrapped(\u001b[39m*\u001b[39;49margs, \u001b[39m*\u001b[39;49m\u001b[39m*\u001b[39;49mkwargs)\n",
      "File \u001b[0;32m/usr/local/lib/python3.11/dist-packages/googleapiclient/http.py:938\u001b[0m, in \u001b[0;36mHttpRequest.execute\u001b[0;34m(self, http, num_retries)\u001b[0m\n\u001b[1;32m    936\u001b[0m     callback(resp)\n\u001b[1;32m    937\u001b[0m \u001b[39mif\u001b[39;00m resp\u001b[39m.\u001b[39mstatus \u001b[39m>\u001b[39m\u001b[39m=\u001b[39m \u001b[39m300\u001b[39m:\n\u001b[0;32m--> 938\u001b[0m     \u001b[39mraise\u001b[39;00m HttpError(resp, content, uri\u001b[39m=\u001b[39m\u001b[39mself\u001b[39m\u001b[39m.\u001b[39muri)\n\u001b[1;32m    939\u001b[0m \u001b[39mreturn\u001b[39;00m \u001b[39mself\u001b[39m\u001b[39m.\u001b[39mpostproc(resp, content)\n",
      "\u001b[0;31mHttpError\u001b[0m: <HttpError 403 when requesting https://photoslibrary.googleapis.com/v1/albums?alt=json returned \"Request had insufficient authentication scopes.\". Details: \"[{'@type': 'type.googleapis.com/google.rpc.ErrorInfo', 'reason': 'ACCESS_TOKEN_SCOPE_INSUFFICIENT', 'domain': 'googleapis.com', 'metadata': {'service': 'photoslibrary.googleapis.com', 'method': 'google.photos.library.v1.PhotosLibrary.ListAlbums'}}]\">"
     ]
    }
   ],
   "source": [
    "list_albums()"
   ]
  },
  {
   "cell_type": "code",
   "execution_count": null,
   "metadata": {},
   "outputs": [],
   "source": []
  }
 ],
 "metadata": {
  "kernelspec": {
   "display_name": "Python 3",
   "language": "python",
   "name": "python3"
  },
  "language_info": {
   "codemirror_mode": {
    "name": "ipython",
    "version": 3
   },
   "file_extension": ".py",
   "mimetype": "text/x-python",
   "name": "python",
   "nbconvert_exporter": "python",
   "pygments_lexer": "ipython3",
   "version": "3.11.6"
  },
  "orig_nbformat": 4
 },
 "nbformat": 4,
 "nbformat_minor": 2
}
