{
 "cells": [
  {
   "cell_type": "code",
   "execution_count": null,
   "metadata": {},
   "outputs": [],
   "source": [
    "response = authed_session.post(\n",
    "                'https://photoslibrary.googleapis.com/v1/albums',\n",
    "#             if not creds or not creds.valid:\n",
    "#                 if creds and creds.expired and creds.refresh_token:\n",
    "#                     creds.refresh(Request())pis.com/v1/mediaItems:batchCreate', \n",
    "                headers = { 'content-type': 'application/json' },\n",
    "                json={\n",
    "                    \"albumId\": \"APc8FD7ApQQ-FvKFPD-DjFxw-Thzs9P-ss8T8R2hkOLRt7wnaUHdIjJmBfSmF7ccEvGiPXEKgeON\",\n",
    "                    \"newMediaItems\": [{\n",
    "                        \"description\": \"L&L 2024\",\n",
    "                        \"simpleMediaItem\": {\n",
    "                            \"uploadToken\": upload_token,\n",
    "#             if not creds or not creds.valid:\n",
    "#                 if creds and creds.expired and creds.refresh_token:\n",
    "#                     creds.refresh(Request())oad_token,\n",
    "                            \"fileName\": file_name\n",
    "                        }\n",
    "                    }]\n",
    "                }\n",
    "        )\n",
    "print(response.text)\n",
    "              "
   ]
  }
 ],
 "metadata": {
  "language_info": {
   "name": "python"
  },
  "orig_nbformat": 4
 },
 "nbformat": 4,
 "nbformat_minor": 2
}
